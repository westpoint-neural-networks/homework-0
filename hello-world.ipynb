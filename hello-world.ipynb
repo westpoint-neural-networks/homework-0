{
  "nbformat": 4,
  "nbformat_minor": 0,
  "metadata": {
    "colab": {
      "name": "Homework 0: Hello, World!.ipynb",
      "provenance": [],
      "collapsed_sections": []
    },
    "kernelspec": {
      "name": "python3",
      "display_name": "Python 3"
    }
  },
  "cells": [
    {
      "cell_type": "markdown",
      "metadata": {
        "id": "NePikfFJx_6N",
        "colab_type": "text"
      },
      "source": [
        "# Homework 0: Hello World! \n",
        "\n",
        "Create a cell below that prints `Hello, World!` to standard output then save this notebook back to your Github Classroom project. "
      ]
    }
  ]
}
